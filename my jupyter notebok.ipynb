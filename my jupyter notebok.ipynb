{
    "cells": [
        {
            "cell_type": "markdown",
            "metadata": {
                "collapsed": true
            },
            "source": "# My Jupyter Notebook on IBM Watson Studio"
        },
        {
            "cell_type": "markdown",
            "metadata": {},
            "source": "__Siddharth Patel__\nData Scientist"
        },
        {
            "cell_type": "markdown",
            "metadata": {},
            "source": "_I am interested in data science because, seeing how deductions can be made from trends in data has always fascinated me._"
        },
        {
            "cell_type": "markdown",
            "metadata": {},
            "source": "### This code show how you can assign variables and provides arthmetic operations"
        },
        {
            "cell_type": "code",
            "execution_count": 4,
            "metadata": {},
            "outputs": [
                {
                    "name": "stdout",
                    "output_type": "stream",
                    "text": "53\n"
                }
            ],
            "source": "x=7\ny=9\nz=10\nb=(x*y)-z\nprint(b)"
        },
        {
            "cell_type": "markdown",
            "metadata": {},
            "source": "This is a numbered list:\n1. brian\n2. Sam\n3. Chris\n\nthis is a bulleted list:\n- Lettuce\n- Oinions\n- potato\n\nthis is a table:\n\n|x|y|\n|---|--|\n|0|2|\n|4|5|\n|-3|0|\n\nThis is an image:\n![potato](https://stemgeneration.org/wp-content/uploads/2018/03/Potato_Battery_Main.jpg)\n\nthis is a hyperlink:\n[potato](https://stemgeneration.org/wp-content/uploads/2018/03/Potato_Battery_Main.jpg)"
        },
        {
            "cell_type": "code",
            "execution_count": null,
            "metadata": {},
            "outputs": [],
            "source": ""
        }
    ],
    "metadata": {
        "kernelspec": {
            "display_name": "Python 3.10",
            "language": "python",
            "name": "python3"
        },
        "language_info": {
            "codemirror_mode": {
                "name": "ipython",
                "version": 3
            },
            "file_extension": ".py",
            "mimetype": "text/x-python",
            "name": "python",
            "nbconvert_exporter": "python",
            "pygments_lexer": "ipython3",
            "version": "3.10.9"
        }
    },
    "nbformat": 4,
    "nbformat_minor": 1
}